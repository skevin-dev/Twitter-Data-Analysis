{
 "cells": [
  {
   "cell_type": "code",
   "execution_count": 1,
   "id": "214619b5",
   "metadata": {},
   "outputs": [],
   "source": [
    "import json\n",
    "import pandas as pd\n",
    "from textblob import TextBlob\n",
    "\n",
    "def read_json(json_file: str)->list:\n",
    "    \"\"\"\n",
    "    json file reader to open and read json files into a list\n",
    "    Args:\n",
    "    -----\n",
    "    json_file: str - path of a json file\n",
    "    \n",
    "    Returns\n",
    "    -------\n",
    "    length of the json file and a list of json\n",
    "    \"\"\"\n",
    "    \n",
    "    tweets_data = []\n",
    "    for tweets in open(json_file,'r'):\n",
    "        tweets_data.append(json.loads(tweets))\n",
    "    \n",
    "    \n",
    "    return len(tweets_data), tweets_data\n",
    "\n",
    "class TweetDfExtractor:\n",
    "    \"\"\"\n",
    "    this function will parse tweets json into a pandas dataframe\n",
    "    \n",
    "    Return\n",
    "    ------\n",
    "    dataframe\n",
    "    \"\"\"\n",
    "    def __init__(self, tweets_list):\n",
    "        \n",
    "        self.tweets_list = tweets_list\n",
    "\n",
    "    # an example function\n",
    "    def find_statuses_count(self)->list:\n",
    "        #create an empty list \n",
    "        statuses_count = list()\n",
    "        \n",
    "        #iterate through tweets list \n",
    "        for x in self.tweets_list:\n",
    "            #append in created list statuses count\n",
    "            statuses_count.append(x['user']['statuses_count'])\n",
    "                                  \n",
    "    def find_full_text(self)->list:\n",
    "        \n",
    "        # create an empty list\n",
    "        text = []\n",
    "        for tweets in self.tweets_list:\n",
    "            if \"retweeted_status\" in [keys for keys,values in tweets.items()] and \"extended_tweet\" in tweets['retweeted_status'].keys():\n",
    "                text.append(tweets['retweeted_status']['extended_tweet']['full_text'])\n",
    "            else:\n",
    "                text.append(\"Empty\")\n",
    "        return text\n",
    "                                  \n",
    "         \n",
    "    def find_sentiments(self, text)->list:\n",
    "        polarity = []\n",
    "        subjectivity = []\n",
    "        for tweets in text:\n",
    "            blob = TextBlob(tweets)\n",
    "            sentiment = blob.sentiment\n",
    "            polarity.append(sentiment.polarity)\n",
    "            subjectivity.append(sentiment.subjectivity)\n",
    "        return polarity, subjectivity\n",
    "\n",
    "    def find_created_time(self)->list:\n",
    "        created_at = []\n",
    "        for x in self.tweets_list:\n",
    "            created_at.append(x['created_at'])\n",
    "       \n",
    "        return created_at\n",
    "\n",
    "    def find_source(self)->list:\n",
    "        # I can also use list comprehensiom\n",
    "        source = [x['source'] for x in self.tweets_list]\n",
    "\n",
    "        return source\n",
    "\n",
    "    def find_screen_name(self)->list:\n",
    "        screen_name = []\n",
    "        for x in self.tweets_list:\n",
    "            screen_name.append(x['user']['screen_name']) \n",
    "        return screen_name\n",
    "                                  \n",
    "    def find_followers_count(self)->list:\n",
    "        followers_count =[]\n",
    "        for x in self.tweets_list:\n",
    "            followers_count.append(x['user']['followers_count'])\n",
    "        return followers_count\n",
    "\n",
    "    def find_friends_count(self)->list:\n",
    "        friends_count= []\n",
    "        for x in self.tweets_list:\n",
    "            friends_count.append(x['user']['friends_count'])\n",
    "        return friends_count\n",
    "\n",
    "    def is_sensitive(self)->list:\n",
    "        try:\n",
    "            is_sensitive = []\n",
    "            for tweets in self.tweets_list:\n",
    "                if 'possibly_sensitive' in [keys for keys,values in tweets.items()]:\n",
    "                    is_sensitive.append(tweets['possibly_sensitive'])\n",
    "                else:\n",
    "                    is_sensitive.append(0)\n",
    "                    \n",
    "        except KeyError:\n",
    "            is_sensitive = None\n",
    "\n",
    "        return is_sensitive\n",
    "\n",
    "    def find_favourite_count(self)->list:\n",
    "        favorite_count = list()\n",
    "        for tweets in self.tweets_list:\n",
    "            if 'retweeted_status' in [keys for keys,values in tweets.items()]:\n",
    "                favorite_count.append(tweets['retweeted_status']['favorite_count'])\n",
    "            else:\n",
    "                favorite_count.append(0)\n",
    "        return favorite_count\n",
    "        \n",
    "    \n",
    "    def find_retweet_count(self)->list:\n",
    "        retweet_count = list()\n",
    "        for tweets in self.tweets_list:\n",
    "            if 'retweeted_status' in [keys for keys,values in tweets.items()]:\n",
    "                retweet_count.append(tweets['retweeted_status']['retweet_count'])\n",
    "            else:\n",
    "                retweet_count.append(0)\n",
    "        return retweet_count\n",
    "\n",
    "    def find_hashtags(self)->list:\n",
    "        hashtags = []\n",
    "\n",
    "        for tweets in self.tweets_list:\n",
    "            hashtags.append(\",\".join([x['text'] for x in tweets['entities']['hashtags']]))\n",
    "        return hashtags\n",
    "\n",
    "    def find_mentions(self)->list:\n",
    "        mentions = []\n",
    "        for tweets in self.tweets_list:\n",
    "            mentions.append( \", \".join([x['screen_name'] for x in tweets['entities']['user_mentions']]))\n",
    "\n",
    "        return mentions\n",
    "                                  \n",
    "\n",
    "\n",
    "    def find_location(self)->list:\n",
    "        try:\n",
    "            location = self.tweets_list['user']['location']\n",
    "        except TypeError:\n",
    "            location = ''\n",
    "        \n",
    "        return location\n",
    "\n",
    "    def find_lang(self)->list:\n",
    "        lang = []\n",
    "        for x in self.tweets_list:\n",
    "            lang.append(x['lang'])\n",
    "        return lang\n",
    "        \n",
    "        \n",
    "    def get_tweet_df(self, save=False)->pd.DataFrame:\n",
    "        \"\"\"required column to be generated you should be creative and add more features\"\"\"\n",
    "        \n",
    "        columns = ['created_at', 'source', 'original_text','polarity','subjectivity', 'lang', 'favorite_count', 'retweet_count', \n",
    "            'original_author', 'followers_count','friends_count','possibly_sensitive', 'hashtags', 'user_mentions', 'place']\n",
    "        \n",
    "        created_at = self.find_created_time()\n",
    "        source = self.find_source()\n",
    "        text = self.find_full_text()\n",
    "        polarity, subjectivity = self.find_sentiments(text)\n",
    "        lang = self.find_lang()\n",
    "        fav_count = self.find_favourite_count()\n",
    "        retweet_count = self.find_retweet_count()\n",
    "        screen_name = self.find_screen_name()\n",
    "        follower_count = self.find_followers_count()\n",
    "        friends_count = self.find_friends_count()\n",
    "        sensitivity = self.is_sensitive()\n",
    "        hashtags = self.find_hashtags()\n",
    "        mentions = self.find_mentions()\n",
    "        location = self.find_location()\n",
    "        data = {\"created_at\":created_at,'source':source,'original_text':text,'polarity':polarity,'subjectivity':subjectivity,\n",
    "                'lang':lang,'favorite_count':fav_count,'retweet_count':retweet_count,'original_author':screen_name, \n",
    "                'followers_count':follower_count,'friends_count':friends_count,'possibly_sensitive':sensitivity,\n",
    "                'hashtags':hashtags,'user_mentions':mentions}\n",
    "\n",
    "#         data = zip(created_at, source, text, polarity, subjectivity, lang, fav_count, retweet_count, screen_name, follower_count, friends_count, sensitivity, hashtags, mentions, location)\n",
    "        df = pd.DataFrame(data, columns=columns)\n",
    "\n",
    "        if save:\n",
    "            df.to_csv('processed_tweet_data.csv', index=False)\n",
    "            print('File Successfully Saved.!!!')\n",
    "        \n",
    "        return df\n",
    "\n",
    "                \n",
    "if __name__ == \"__main__\":\n",
    "    # required column to be generated you should be creative and add more features\n",
    "    columns = ['created_at', 'source', 'original_text','clean_text', 'sentiment','polarity','subjectivity', 'lang', 'favorite_count', 'retweet_count', \n",
    "    'original_author', 'screen_count', 'followers_count','friends_count','possibly_sensitive', 'hashtags', 'user_mentions', 'place', 'place_coord_boundaries']\n",
    "    _, tweet_list = read_json(\"Economic_Twitter_Data.json\")\n",
    "    tweet = TweetDfExtractor(tweet_list)\n",
    "    tweet_df = tweet.get_tweet_df() \n",
    "\n",
    "    # use all defined functions to generate a dataframe with the specified columns above\n",
    "\n",
    "    "
   ]
  },
  {
   "cell_type": "code",
   "execution_count": 2,
   "id": "4ad6a75e",
   "metadata": {},
   "outputs": [],
   "source": [
    "class Clean_Tweets:\n",
    "    \"\"\"\n",
    "    The PEP8 Standard AMAZING!!!\n",
    "    \"\"\"\n",
    "    def __init__(self, df:pd.DataFrame):\n",
    "        self.df = df\n",
    "        print('Automation in Action...!!!')\n",
    "        \n",
    "    def drop_unwanted_column(self, df:pd.DataFrame)->pd.DataFrame:\n",
    "        \"\"\"\n",
    "        remove rows that has column names. This error originated from\n",
    "        the data collection stage.  \n",
    "        \"\"\"\n",
    "        unwanted_rows = df[df['retweet_count'] == 'retweet_count' ].index\n",
    "        df.drop(unwanted_rows , inplace=True)\n",
    "        df = df[df['polarity'] != 'polarity']\n",
    "        \n",
    "        return df\n",
    "    def drop_duplicate(self, df:pd.DataFrame)->pd.DataFrame:\n",
    "        \"\"\"\n",
    "        drop duplicate rows\n",
    "        \"\"\"\n",
    "        self.df = self.df.drop_duplicates().drop_duplicates(subset='original_text')\n",
    "        \n",
    "        return df\n",
    "    def convert_to_datetime(self, df:pd.DataFrame)->pd.DataFrame:\n",
    "        \"\"\"\n",
    "        convert column to datetime\n",
    "        \"\"\"\n",
    "        self.df['created_at'] = pd.to_datetime(self.df['created_at'], errors='coerce')\n",
    "        \n",
    "        df = df[df['created_at'] >= '2020-12-31' ]\n",
    "        \n",
    "        return df\n",
    "    \n",
    "    def convert_to_numbers(self, df:pd.DataFrame)->pd.DataFrame:\n",
    "        \"\"\"\n",
    "        convert columns like polarity, subjectivity, retweet_count\n",
    "        favorite_count etc to numbers\n",
    "        \"\"\"\n",
    "        \n",
    "        # convert polarity column to numeric, coerce for setting Invalid parsing to nan\n",
    "        df['polarity'] = pd.to_numeric(self.df['polarity'],errors=\"ignore\")\n",
    "        \n",
    "        # same applies to other column\n",
    "        df['subjectivity'] = pd.to_numeric(self.df['subjectivity'], errors=\"ignore\")\n",
    "        \n",
    "        # putting square bracket while extracting column is the same putting a dot \n",
    "        df['favorite_count'] = pd.to_numeric( self.df.favorite_count, errors= \"ignore\")\n",
    "        \n",
    "        df['retweet_count'] = pd.to_numeric(self.df.retweet_count, errors=\"ignore\")\n",
    "        \n",
    "        return df\n",
    "    \n",
    "    def remove_non_english_tweets(self, df:pd.DataFrame)->pd.DataFrame:\n",
    "        \"\"\"\n",
    "        remove non english tweets from lang\n",
    "        \"\"\"\n",
    "        # we use query function to query tweets whereby lang(language) = en(english)\n",
    "        df = self.df.query(\"lang == 'en'\")\n",
    "        \n",
    "        return df"
   ]
  },
  {
   "cell_type": "code",
   "execution_count": 3,
   "id": "3d932252",
   "metadata": {},
   "outputs": [
    {
     "name": "stdout",
     "output_type": "stream",
     "text": [
      "Automation in Action...!!!\n"
     ]
    }
   ],
   "source": [
    "r = Clean_Tweets(tweet_df)"
   ]
  },
  {
   "cell_type": "code",
   "execution_count": 4,
   "id": "1fb2295d",
   "metadata": {},
   "outputs": [],
   "source": [
    "df = r.remove_non_english_tweets(tweet_df)"
   ]
  },
  {
   "cell_type": "code",
   "execution_count": 5,
   "id": "18f1af40",
   "metadata": {},
   "outputs": [
    {
     "name": "stderr",
     "output_type": "stream",
     "text": [
      "<ipython-input-5-2c0f50f715ec>:1: SettingWithCopyWarning: \n",
      "A value is trying to be set on a copy of a slice from a DataFrame.\n",
      "Try using .loc[row_indexer,col_indexer] = value instead\n",
      "\n",
      "See the caveats in the documentation: https://pandas.pydata.org/pandas-docs/stable/user_guide/indexing.html#returning-a-view-versus-a-copy\n",
      "  df['created_at'] = pd.to_datetime(df['created_at'], errors='coerce')\n"
     ]
    }
   ],
   "source": [
    "df['created_at'] = pd.to_datetime(df['created_at'], errors='coerce')"
   ]
  },
  {
   "cell_type": "code",
   "execution_count": 6,
   "id": "910a7f6f",
   "metadata": {},
   "outputs": [],
   "source": [
    "df = df[df['created_at'] >= '2020-12-31' ]"
   ]
  },
  {
   "cell_type": "code",
   "execution_count": 7,
   "id": "9bff6e17",
   "metadata": {},
   "outputs": [],
   "source": [
    "df['polarity'] = pd.to_numeric(df['polarity'],errors=\"ignore\")\n",
    "        \n",
    "# same applies to other column\n",
    "df['subjectivity'] = pd.to_numeric(df['subjectivity'], errors=\"ignore\")\n",
    "\n",
    "# putting square bracket while extracting column is the same putting a dot \n",
    "df['favorite_count'] = pd.to_numeric( df.favorite_count, errors= \"ignore\")\n",
    "\n",
    "df['retweet_count'] = pd.to_numeric(df.retweet_count, errors=\"ignore\")\n"
   ]
  },
  {
   "cell_type": "code",
   "execution_count": 8,
   "id": "082aaa47",
   "metadata": {},
   "outputs": [
    {
     "data": {
      "text/html": [
       "<div>\n",
       "<style scoped>\n",
       "    .dataframe tbody tr th:only-of-type {\n",
       "        vertical-align: middle;\n",
       "    }\n",
       "\n",
       "    .dataframe tbody tr th {\n",
       "        vertical-align: top;\n",
       "    }\n",
       "\n",
       "    .dataframe thead th {\n",
       "        text-align: right;\n",
       "    }\n",
       "</style>\n",
       "<table border=\"1\" class=\"dataframe\">\n",
       "  <thead>\n",
       "    <tr style=\"text-align: right;\">\n",
       "      <th></th>\n",
       "      <th>created_at</th>\n",
       "      <th>source</th>\n",
       "      <th>original_text</th>\n",
       "      <th>polarity</th>\n",
       "      <th>subjectivity</th>\n",
       "      <th>lang</th>\n",
       "      <th>favorite_count</th>\n",
       "      <th>retweet_count</th>\n",
       "      <th>original_author</th>\n",
       "      <th>followers_count</th>\n",
       "      <th>friends_count</th>\n",
       "      <th>possibly_sensitive</th>\n",
       "      <th>hashtags</th>\n",
       "      <th>user_mentions</th>\n",
       "      <th>place</th>\n",
       "    </tr>\n",
       "  </thead>\n",
       "  <tbody>\n",
       "    <tr>\n",
       "      <th>38</th>\n",
       "      <td>2022-04-22 22:17:05+00:00</td>\n",
       "      <td>&lt;a href=\"http://twitter.com/download/android\" ...</td>\n",
       "      <td>Empty</td>\n",
       "      <td>-0.1</td>\n",
       "      <td>0.5</td>\n",
       "      <td>en</td>\n",
       "      <td>188</td>\n",
       "      <td>43</td>\n",
       "      <td>davideiacovozzi</td>\n",
       "      <td>18</td>\n",
       "      <td>55</td>\n",
       "      <td>0</td>\n",
       "      <td>gold,silver,crypto</td>\n",
       "      <td>NorthstarCharts</td>\n",
       "      <td>NaN</td>\n",
       "    </tr>\n",
       "    <tr>\n",
       "      <th>39</th>\n",
       "      <td>2022-04-22 13:44:53+00:00</td>\n",
       "      <td>&lt;a href=\"http://twitter.com/download/android\" ...</td>\n",
       "      <td>Empty</td>\n",
       "      <td>-0.1</td>\n",
       "      <td>0.5</td>\n",
       "      <td>en</td>\n",
       "      <td>179</td>\n",
       "      <td>32</td>\n",
       "      <td>davideiacovozzi</td>\n",
       "      <td>18</td>\n",
       "      <td>55</td>\n",
       "      <td>0</td>\n",
       "      <td></td>\n",
       "      <td>MichaelAArouet</td>\n",
       "      <td>NaN</td>\n",
       "    </tr>\n",
       "    <tr>\n",
       "      <th>41</th>\n",
       "      <td>2022-04-22 06:10:34+00:00</td>\n",
       "      <td>&lt;a href=\"http://twitter.com/download/android\" ...</td>\n",
       "      <td>Empty</td>\n",
       "      <td>-0.1</td>\n",
       "      <td>0.5</td>\n",
       "      <td>en</td>\n",
       "      <td>193</td>\n",
       "      <td>26</td>\n",
       "      <td>davideiacovozzi</td>\n",
       "      <td>18</td>\n",
       "      <td>55</td>\n",
       "      <td>False</td>\n",
       "      <td></td>\n",
       "      <td>goldseek</td>\n",
       "      <td>NaN</td>\n",
       "    </tr>\n",
       "    <tr>\n",
       "      <th>42</th>\n",
       "      <td>2022-04-21 17:22:09+00:00</td>\n",
       "      <td>&lt;a href=\"http://twitter.com/download/android\" ...</td>\n",
       "      <td>Empty</td>\n",
       "      <td>-0.1</td>\n",
       "      <td>0.5</td>\n",
       "      <td>en</td>\n",
       "      <td>620</td>\n",
       "      <td>213</td>\n",
       "      <td>davideiacovozzi</td>\n",
       "      <td>18</td>\n",
       "      <td>55</td>\n",
       "      <td>0</td>\n",
       "      <td></td>\n",
       "      <td>charliebilello</td>\n",
       "      <td>NaN</td>\n",
       "    </tr>\n",
       "    <tr>\n",
       "      <th>43</th>\n",
       "      <td>2022-04-21 10:32:26+00:00</td>\n",
       "      <td>&lt;a href=\"http://twitter.com/download/android\" ...</td>\n",
       "      <td>Empty</td>\n",
       "      <td>-0.1</td>\n",
       "      <td>0.5</td>\n",
       "      <td>en</td>\n",
       "      <td>1787</td>\n",
       "      <td>417</td>\n",
       "      <td>davideiacovozzi</td>\n",
       "      <td>18</td>\n",
       "      <td>55</td>\n",
       "      <td>False</td>\n",
       "      <td></td>\n",
       "      <td>biancoresearch</td>\n",
       "      <td>NaN</td>\n",
       "    </tr>\n",
       "    <tr>\n",
       "      <th>...</th>\n",
       "      <td>...</td>\n",
       "      <td>...</td>\n",
       "      <td>...</td>\n",
       "      <td>...</td>\n",
       "      <td>...</td>\n",
       "      <td>...</td>\n",
       "      <td>...</td>\n",
       "      <td>...</td>\n",
       "      <td>...</td>\n",
       "      <td>...</td>\n",
       "      <td>...</td>\n",
       "      <td>...</td>\n",
       "      <td>...</td>\n",
       "      <td>...</td>\n",
       "      <td>...</td>\n",
       "    </tr>\n",
       "    <tr>\n",
       "      <th>24584</th>\n",
       "      <td>2022-04-22 15:22:56+00:00</td>\n",
       "      <td>&lt;a href=\"http://twitter.com/download/iphone\" r...</td>\n",
       "      <td>Empty</td>\n",
       "      <td>-0.1</td>\n",
       "      <td>0.5</td>\n",
       "      <td>en</td>\n",
       "      <td>2924</td>\n",
       "      <td>300</td>\n",
       "      <td>kitukalesatya</td>\n",
       "      <td>706</td>\n",
       "      <td>643</td>\n",
       "      <td>0</td>\n",
       "      <td></td>\n",
       "      <td>CHARANJITCHANNI, RajaBrar_INC, BB__Ashu</td>\n",
       "      <td>NaN</td>\n",
       "    </tr>\n",
       "    <tr>\n",
       "      <th>24586</th>\n",
       "      <td>2022-04-22 15:22:29+00:00</td>\n",
       "      <td>&lt;a href=\"http://twitter.com/download/iphone\" r...</td>\n",
       "      <td>Empty</td>\n",
       "      <td>-0.1</td>\n",
       "      <td>0.5</td>\n",
       "      <td>en</td>\n",
       "      <td>14671</td>\n",
       "      <td>5006</td>\n",
       "      <td>kitukalesatya</td>\n",
       "      <td>706</td>\n",
       "      <td>643</td>\n",
       "      <td>0</td>\n",
       "      <td></td>\n",
       "      <td>pbhushan1, BajpayeeManoj</td>\n",
       "      <td>NaN</td>\n",
       "    </tr>\n",
       "    <tr>\n",
       "      <th>24596</th>\n",
       "      <td>2022-04-22 15:01:27+00:00</td>\n",
       "      <td>&lt;a href=\"http://twitter.com/download/iphone\" r...</td>\n",
       "      <td>Empty</td>\n",
       "      <td>-0.1</td>\n",
       "      <td>0.5</td>\n",
       "      <td>en</td>\n",
       "      <td>5056</td>\n",
       "      <td>973</td>\n",
       "      <td>kitukalesatya</td>\n",
       "      <td>706</td>\n",
       "      <td>643</td>\n",
       "      <td>False</td>\n",
       "      <td></td>\n",
       "      <td>s_shreyatweets</td>\n",
       "      <td>NaN</td>\n",
       "    </tr>\n",
       "    <tr>\n",
       "      <th>24599</th>\n",
       "      <td>2022-04-22 14:58:12+00:00</td>\n",
       "      <td>&lt;a href=\"http://twitter.com/download/iphone\" r...</td>\n",
       "      <td>Empty</td>\n",
       "      <td>-0.1</td>\n",
       "      <td>0.5</td>\n",
       "      <td>en</td>\n",
       "      <td>636</td>\n",
       "      <td>115</td>\n",
       "      <td>kitukalesatya</td>\n",
       "      <td>706</td>\n",
       "      <td>643</td>\n",
       "      <td>False</td>\n",
       "      <td></td>\n",
       "      <td>tejjINC</td>\n",
       "      <td>NaN</td>\n",
       "    </tr>\n",
       "    <tr>\n",
       "      <th>24622</th>\n",
       "      <td>2022-04-22 14:44:35+00:00</td>\n",
       "      <td>&lt;a href=\"http://twitter.com/download/iphone\" r...</td>\n",
       "      <td>Empty</td>\n",
       "      <td>-0.1</td>\n",
       "      <td>0.5</td>\n",
       "      <td>en</td>\n",
       "      <td>1025</td>\n",
       "      <td>203</td>\n",
       "      <td>kitukalesatya</td>\n",
       "      <td>706</td>\n",
       "      <td>643</td>\n",
       "      <td>0</td>\n",
       "      <td></td>\n",
       "      <td>Parthtiwari25</td>\n",
       "      <td>NaN</td>\n",
       "    </tr>\n",
       "  </tbody>\n",
       "</table>\n",
       "<p>16374 rows × 15 columns</p>\n",
       "</div>"
      ],
      "text/plain": [
       "                     created_at  \\\n",
       "38    2022-04-22 22:17:05+00:00   \n",
       "39    2022-04-22 13:44:53+00:00   \n",
       "41    2022-04-22 06:10:34+00:00   \n",
       "42    2022-04-21 17:22:09+00:00   \n",
       "43    2022-04-21 10:32:26+00:00   \n",
       "...                         ...   \n",
       "24584 2022-04-22 15:22:56+00:00   \n",
       "24586 2022-04-22 15:22:29+00:00   \n",
       "24596 2022-04-22 15:01:27+00:00   \n",
       "24599 2022-04-22 14:58:12+00:00   \n",
       "24622 2022-04-22 14:44:35+00:00   \n",
       "\n",
       "                                                  source original_text  \\\n",
       "38     <a href=\"http://twitter.com/download/android\" ...         Empty   \n",
       "39     <a href=\"http://twitter.com/download/android\" ...         Empty   \n",
       "41     <a href=\"http://twitter.com/download/android\" ...         Empty   \n",
       "42     <a href=\"http://twitter.com/download/android\" ...         Empty   \n",
       "43     <a href=\"http://twitter.com/download/android\" ...         Empty   \n",
       "...                                                  ...           ...   \n",
       "24584  <a href=\"http://twitter.com/download/iphone\" r...         Empty   \n",
       "24586  <a href=\"http://twitter.com/download/iphone\" r...         Empty   \n",
       "24596  <a href=\"http://twitter.com/download/iphone\" r...         Empty   \n",
       "24599  <a href=\"http://twitter.com/download/iphone\" r...         Empty   \n",
       "24622  <a href=\"http://twitter.com/download/iphone\" r...         Empty   \n",
       "\n",
       "       polarity  subjectivity lang  favorite_count  retweet_count  \\\n",
       "38         -0.1           0.5   en             188             43   \n",
       "39         -0.1           0.5   en             179             32   \n",
       "41         -0.1           0.5   en             193             26   \n",
       "42         -0.1           0.5   en             620            213   \n",
       "43         -0.1           0.5   en            1787            417   \n",
       "...         ...           ...  ...             ...            ...   \n",
       "24584      -0.1           0.5   en            2924            300   \n",
       "24586      -0.1           0.5   en           14671           5006   \n",
       "24596      -0.1           0.5   en            5056            973   \n",
       "24599      -0.1           0.5   en             636            115   \n",
       "24622      -0.1           0.5   en            1025            203   \n",
       "\n",
       "       original_author  followers_count  friends_count possibly_sensitive  \\\n",
       "38     davideiacovozzi               18             55                  0   \n",
       "39     davideiacovozzi               18             55                  0   \n",
       "41     davideiacovozzi               18             55              False   \n",
       "42     davideiacovozzi               18             55                  0   \n",
       "43     davideiacovozzi               18             55              False   \n",
       "...                ...              ...            ...                ...   \n",
       "24584    kitukalesatya              706            643                  0   \n",
       "24586    kitukalesatya              706            643                  0   \n",
       "24596    kitukalesatya              706            643              False   \n",
       "24599    kitukalesatya              706            643              False   \n",
       "24622    kitukalesatya              706            643                  0   \n",
       "\n",
       "                 hashtags                            user_mentions place  \n",
       "38     gold,silver,crypto                          NorthstarCharts   NaN  \n",
       "39                                                  MichaelAArouet   NaN  \n",
       "41                                                        goldseek   NaN  \n",
       "42                                                  charliebilello   NaN  \n",
       "43                                                  biancoresearch   NaN  \n",
       "...                   ...                                      ...   ...  \n",
       "24584                      CHARANJITCHANNI, RajaBrar_INC, BB__Ashu   NaN  \n",
       "24586                                     pbhushan1, BajpayeeManoj   NaN  \n",
       "24596                                               s_shreyatweets   NaN  \n",
       "24599                                                      tejjINC   NaN  \n",
       "24622                                                Parthtiwari25   NaN  \n",
       "\n",
       "[16374 rows x 15 columns]"
      ]
     },
     "execution_count": 8,
     "metadata": {},
     "output_type": "execute_result"
    }
   ],
   "source": [
    "df"
   ]
  },
  {
   "cell_type": "markdown",
   "id": "296c6f71",
   "metadata": {},
   "source": [
    "# EDA"
   ]
  },
  {
   "cell_type": "code",
   "execution_count": 9,
   "id": "9475e7b0",
   "metadata": {},
   "outputs": [],
   "source": [
    "a = df.corr()"
   ]
  },
  {
   "cell_type": "code",
   "execution_count": 10,
   "id": "a9639dee",
   "metadata": {},
   "outputs": [],
   "source": [
    "b = a.iloc[2:,2:]"
   ]
  },
  {
   "cell_type": "code",
   "execution_count": 11,
   "id": "132a8ee6",
   "metadata": {},
   "outputs": [
    {
     "data": {
      "text/plain": [
       "<AxesSubplot:>"
      ]
     },
     "execution_count": 11,
     "metadata": {},
     "output_type": "execute_result"
    },
    {
     "data": {
      "image/png": "[encoded data removed]",
      "text/plain": [
       "<Figure size 432x288 with 2 Axes>"
      ]
     },
     "metadata": {
      "needs_background": "light"
     },
     "output_type": "display_data"
    }
   ],
   "source": [
    "import seaborn as sns\n",
    "sns.heatmap(b, annot = True)"
   ]
  },
  {
   "cell_type": "code",
   "execution_count": 12,
   "id": "205f17e9",
   "metadata": {},
   "outputs": [
    {
     "data": {
      "text/plain": [
       "7217"
      ]
     },
     "execution_count": 12,
     "metadata": {},
     "output_type": "execute_result"
    }
   ],
   "source": [
    "len(df['user_mentions'].unique())"
   ]
  },
  {
   "cell_type": "code",
   "execution_count": 13,
   "id": "d1324b87",
   "metadata": {},
   "outputs": [
    {
     "data": {
      "text/plain": [
       "created_at                0\n",
       "source                    0\n",
       "original_text             0\n",
       "polarity                  0\n",
       "subjectivity              0\n",
       "lang                      0\n",
       "favorite_count            0\n",
       "retweet_count             0\n",
       "original_author           0\n",
       "followers_count           0\n",
       "friends_count             0\n",
       "possibly_sensitive        0\n",
       "hashtags                  0\n",
       "user_mentions             0\n",
       "place                 16374\n",
       "dtype: int64"
      ]
     },
     "execution_count": 13,
     "metadata": {},
     "output_type": "execute_result"
    }
   ],
   "source": [
    "df.isnull().sum()"
   ]
  },
  {
   "cell_type": "code",
   "execution_count": 14,
   "id": "3601374a",
   "metadata": {},
   "outputs": [],
   "source": [
    "df.drop(\"place\",axis=1,inplace=True)"
   ]
  },
  {
   "cell_type": "code",
   "execution_count": 15,
   "id": "ea26302d",
   "metadata": {},
   "outputs": [],
   "source": [
    "columns = []\n",
    "length = []\n",
    "for i in df.columns:\n",
    "    columns.append(i)\n",
    "    length.append(len(df[i].unique()))"
   ]
  },
  {
   "cell_type": "code",
   "execution_count": 16,
   "id": "b7962571",
   "metadata": {},
   "outputs": [],
   "source": [
    "dict_={}\n",
    "r = []\n",
    "for i,j in zip(columns,length):\n",
    "    dict_[i] = j\n",
    "    r.append(dict_)"
   ]
  },
  {
   "cell_type": "code",
   "execution_count": 17,
   "id": "6092fc17",
   "metadata": {},
   "outputs": [
    {
     "data": {
      "text/plain": [
       "{'created_at': 15675,\n",
       " 'source': 53,\n",
       " 'original_text': 1,\n",
       " 'polarity': 1,\n",
       " 'subjectivity': 1,\n",
       " 'lang': 1,\n",
       " 'favorite_count': 2550,\n",
       " 'retweet_count': 1716,\n",
       " 'original_author': 464,\n",
       " 'followers_count': 426,\n",
       " 'friends_count': 394,\n",
       " 'possibly_sensitive': 2,\n",
       " 'hashtags': 3213,\n",
       " 'user_mentions': 7217}"
      ]
     },
     "execution_count": 17,
     "metadata": {},
     "output_type": "execute_result"
    }
   ],
   "source": [
    "r_ = r[0]\n",
    "r_"
   ]
  },
  {
   "cell_type": "code",
   "execution_count": 18,
   "id": "b00ebaa2",
   "metadata": {},
   "outputs": [],
   "source": [
    "r = pd.DataFrame(r_,index=[0])"
   ]
  },
  {
   "cell_type": "code",
   "execution_count": 19,
   "id": "0e23fa79",
   "metadata": {},
   "outputs": [
    {
     "data": {
      "image/png": "[encoded data removed]",
      "text/plain": [
       "<Figure size 432x288 with 1 Axes>"
      ]
     },
     "metadata": {},
     "output_type": "display_data"
    }
   ],
   "source": [
    "import matplotlib.pyplot as plt\n",
    "sns.set()\n",
    "r.plot(kind=\"bar\")\n",
    "plt.legend(loc='center left', bbox_to_anchor=(1, 0.5),ncol=2)\n",
    "plt.title(\"unique values for each column\",fontweight=\"bold\")\n",
    "plt.xlabel(\"columns\")\n",
    "plt.ylabel(\"unique values\");"
   ]
  },
  {
   "cell_type": "code",
   "execution_count": 20,
   "id": "d2685a88",
   "metadata": {},
   "outputs": [
    {
     "data": {
      "image/png": "[encoded data removed]",
      "text/plain": [
       "<Figure size 432x288 with 1 Axes>"
      ]
     },
     "metadata": {},
     "output_type": "display_data"
    }
   ],
   "source": [
    "plt.scatter(df['favorite_count'],df['retweet_count'])\n",
    "plt.title(\"favorite count against retweet count\")\n",
    "plt.xlabel(\"favorite count\")\n",
    "plt.ylabel(\"retweet count\");"
   ]
  },
  {
   "cell_type": "code",
   "execution_count": 21,
   "id": "82f28ab4",
   "metadata": {},
   "outputs": [],
   "source": [
    "import numpy as np\n",
    "df['hashtags'] = df['hashtags'].replace('',np.NaN)"
   ]
  },
  {
   "cell_type": "code",
   "execution_count": 22,
   "id": "1a6ff774",
   "metadata": {},
   "outputs": [],
   "source": [
    "a = list(df['hashtags'].unique())\n",
    "a.remove(np.NaN)\n"
   ]
  },
  {
   "cell_type": "code",
   "execution_count": 23,
   "id": "4c5e736d",
   "metadata": {},
   "outputs": [],
   "source": [
    "hashtags = []\n",
    "values = []\n",
    "for i in a:\n",
    "    a = df[df['hashtags']==i]\n",
    "    hashtags.append(i)\n",
    "    values.append(len(a))\n",
    "    "
   ]
  },
  {
   "cell_type": "code",
   "execution_count": 24,
   "id": "6b121661",
   "metadata": {},
   "outputs": [],
   "source": [
    "d = []\n",
    "D = {}\n",
    "for i,j in zip(hashtags,values):\n",
    "    D[i] = j\n",
    "    d.append(D)"
   ]
  },
  {
   "cell_type": "code",
   "execution_count": 25,
   "id": "c6c130d7",
   "metadata": {},
   "outputs": [],
   "source": [
    "w = d[0]"
   ]
  },
  {
   "cell_type": "code",
   "execution_count": 26,
   "id": "d495fce2",
   "metadata": {},
   "outputs": [],
   "source": [
    "sort_orders = sorted(w.items(), key=lambda x: x[1], reverse=True)"
   ]
  },
  {
   "cell_type": "code",
   "execution_count": 27,
   "id": "ee8d0f54",
   "metadata": {},
   "outputs": [],
   "source": [
    "e = []\n",
    "t = []\n",
    "for i in sort_orders:\n",
    "    e.append(i[0])\n",
    "    t.append(i[1])"
   ]
  },
  {
   "cell_type": "code",
   "execution_count": 28,
   "id": "e7f8742f",
   "metadata": {},
   "outputs": [
    {
     "data": {
      "text/plain": [
       "[102, 71, 43, 41, 37, 32, 31, 31, 29, 25]"
      ]
     },
     "execution_count": 28,
     "metadata": {},
     "output_type": "execute_result"
    }
   ],
   "source": [
    "t[0:10]"
   ]
  },
  {
   "cell_type": "code",
   "execution_count": 29,
   "id": "e2005d24",
   "metadata": {},
   "outputs": [
    {
     "data": {
      "image/png": "[encoded data removed]",
      "text/plain": [
       "<Figure size 432x288 with 1 Axes>"
      ]
     },
     "metadata": {},
     "output_type": "display_data"
    }
   ],
   "source": [
    "plt.bar(e[0:10],t[0:10])\n",
    "plt.xticks(rotation=90)\n",
    "plt.xlabel(\"hashtags\")\n",
    "plt.title(\"top 10 hashtags\",fontweight=\"bold\");"
   ]
  },
  {
   "cell_type": "code",
   "execution_count": 30,
   "id": "50316bb7",
   "metadata": {},
   "outputs": [],
   "source": [
    "v = list(df['original_author'].unique())"
   ]
  },
  {
   "cell_type": "code",
   "execution_count": 31,
   "id": "05eb9b4e",
   "metadata": {},
   "outputs": [],
   "source": [
    "authors = []\n",
    "values_auth = []\n",
    "for i in v:\n",
    "    a = df[df['original_author']==i]\n",
    "    authors.append(i)\n",
    "    values_auth.append(len(a))"
   ]
  },
  {
   "cell_type": "code",
   "execution_count": 32,
   "id": "9c5e2be4",
   "metadata": {},
   "outputs": [],
   "source": [
    "p = []\n",
    "t = {}\n",
    "for i,j in zip(authors,values_auth):\n",
    "    t[i] = j\n",
    "    p.append(t)"
   ]
  },
  {
   "cell_type": "code",
   "execution_count": 33,
   "id": "6a8245c4",
   "metadata": {},
   "outputs": [],
   "source": [
    "sort_orders_ = sorted(p[0].items(), key=lambda x: x[1], reverse=True)"
   ]
  },
  {
   "cell_type": "code",
   "execution_count": 34,
   "id": "57a516d3",
   "metadata": {},
   "outputs": [],
   "source": [
    "m = []\n",
    "n = []\n",
    "for i in sort_orders_:\n",
    "    m.append(i[0])\n",
    "    n.append(i[1])"
   ]
  },
  {
   "cell_type": "code",
   "execution_count": 35,
   "id": "66a18b6a",
   "metadata": {},
   "outputs": [
    {
     "data": {
      "image/png": "[encoded data removed]",
      "text/plain": [
       "<Figure size 432x288 with 1 Axes>"
      ]
     },
     "metadata": {},
     "output_type": "display_data"
    }
   ],
   "source": [
    "plt.bar(m[0:10],n[0:10])\n",
    "plt.xticks(rotation=90)\n",
    "plt.xlabel(\"original author\")\n",
    "plt.title(\"Top 10 authors\");"
   ]
  },
  {
   "cell_type": "code",
   "execution_count": null,
   "id": "684e5cc5",
   "metadata": {},
   "outputs": [],
   "source": []
  }
 ],
 "metadata": {
  "kernelspec": {
   "display_name": "Python 3",
   "language": "python",
   "name": "python3"
  },
  "language_info": {
   "codemirror_mode": {
    "name": "ipython",
    "version": 3
   },
   "file_extension": ".py",
   "mimetype": "text/x-python",
   "name": "python",
   "nbconvert_exporter": "python",
   "pygments_lexer": "ipython3",
   "version": "3.8.8"
  }
 },
 "nbformat": 4,
 "nbformat_minor": 5
}
